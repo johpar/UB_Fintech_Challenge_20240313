{
 "cells": [
  {
   "cell_type": "code",
   "execution_count": 1,
   "id": "a298c9cb",
   "metadata": {},
   "outputs": [],
   "source": [
    "import requests"
   ]
  },
  {
   "cell_type": "code",
   "execution_count": 2,
   "id": "71954296",
   "metadata": {},
   "outputs": [],
   "source": [
    "url = 'http://data.fixer.io/api/latest?access_key=b44eb5f3bcdad2d4e47dc4e8def00c0c'"
   ]
  },
  {
   "cell_type": "code",
   "execution_count": 15,
   "id": "d87bf096",
   "metadata": {},
   "outputs": [],
   "source": [
    "def currencyConvert(money):\n",
    "    currency_from = input(\"From :\")\n",
    "    currency_to = input(\"To :\")\n",
    "    response = requests.get(url)\n",
    "    rate_from = response.json()[\"rates\"][currency_from]\n",
    "    rate_to = response.json()[\"rates\"][currency_to]\n",
    "    amount_in_eur = money / rate_from\n",
    "    amount_to = amount_in_eur * rate_to\n",
    "    amount = round(amount_to, 2)\n",
    "    print(amount)"
   ]
  },
  {
   "cell_type": "code",
   "execution_count": 16,
   "id": "73c57a1e",
   "metadata": {},
   "outputs": [],
   "source": [
    "import yfinance as yf"
   ]
  },
  {
   "cell_type": "code",
   "execution_count": 21,
   "id": "1a9280f7",
   "metadata": {},
   "outputs": [
    {
     "data": {
      "text/plain": [
       "897.7000122070312"
      ]
     },
     "execution_count": 21,
     "metadata": {},
     "output_type": "execute_result"
    }
   ],
   "source": [
    "# Fetch data for NVIDIA\n",
    "nvidia_stock = yf.Ticker(\"NVDA\")\n",
    "# Get the current price\n",
    "current_nvda = nvidia_stock.history(period=\"1d\")['Close'].iloc[-1]\n",
    "current_nvda"
   ]
  },
  {
   "cell_type": "code",
   "execution_count": 22,
   "id": "9f0a4647",
   "metadata": {
    "scrolled": true
   },
   "outputs": [
    {
     "name": "stdout",
     "output_type": "stream",
     "text": [
      "From :USD\n",
      "To :KRW\n",
      "1180336.84\n"
     ]
    }
   ],
   "source": [
    "currencyConvert(current_nvda)"
   ]
  }
 ],
 "metadata": {
  "kernelspec": {
   "display_name": "Python 3 (ipykernel)",
   "language": "python",
   "name": "python3"
  },
  "language_info": {
   "codemirror_mode": {
    "name": "ipython",
    "version": 3
   },
   "file_extension": ".py",
   "mimetype": "text/x-python",
   "name": "python",
   "nbconvert_exporter": "python",
   "pygments_lexer": "ipython3",
   "version": "3.11.4"
  }
 },
 "nbformat": 4,
 "nbformat_minor": 5
}
